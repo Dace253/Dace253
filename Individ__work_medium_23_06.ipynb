{
  "nbformat": 4,
  "nbformat_minor": 0,
  "metadata": {
    "colab": {
      "provenance": [],
      "authorship_tag": "ABX9TyO178f1Fcr0DmEwByFav0H2",
      "include_colab_link": true
    },
    "kernelspec": {
      "name": "python3",
      "display_name": "Python 3"
    },
    "language_info": {
      "name": "python"
    }
  },
  "cells": [
    {
      "cell_type": "markdown",
      "metadata": {
        "id": "view-in-github",
        "colab_type": "text"
      },
      "source": [
        "<a href=\"https://colab.research.google.com/github/Dace253/Dace253/blob/main/Individ__work_medium_23_06.ipynb\" target=\"_parent\"><img src=\"https://colab.research.google.com/assets/colab-badge.svg\" alt=\"Open In Colab\"/></a>"
      ]
    },
    {
      "cell_type": "markdown",
      "source": [
        "Easy: In this level, you will read the data from prices.txt (see additional files),  compute the total price of all items, and count the total number of purchased items."
      ],
      "metadata": {
        "id": "Xp2E8H_BYmWR"
      }
    },
    {
      "cell_type": "markdown",
      "source": [
        "Medium Level:\n",
        "In this level, we will extend the program to skip rows that contain anything other than a number in the code. (Modify your program in such a way that all rows that contain something else than a number, are skipped.)\n",
        "\n",
        "\n"
      ],
      "metadata": {
        "id": "LRgs0aRDVdm3"
      }
    },
    {
      "cell_type": "markdown",
      "source": [
        "I focused on keeping the code structure clear and easy to read using the try-except block.It directly checks whether a line can be converted to a float and ignores the line if the conversion fails. This approach is effective for handling files containing a mixture of floats and strings."
      ],
      "metadata": {
        "id": "1ws3XbJYV7NF"
      }
    },
    {
      "cell_type": "code",
      "execution_count": 3,
      "metadata": {
        "colab": {
          "base_uri": "https://localhost:8080/"
        },
        "id": "s6tjY9TbnC_d",
        "outputId": "a765520e-cbf2-419e-c46d-162d91b4f89e"
      },
      "outputs": [
        {
          "output_type": "stream",
          "name": "stdout",
          "text": [
            "Total sum of all items: 17.32\n",
            "Total number of purchased items: 5\n",
            "Total number of items could also be: 8\n"
          ]
        }
      ],
      "source": [
        "filename = '/content/prices.txt'\n",
        "count_price = 0\n",
        "count_items = 0\n",
        "# assuming each line represents an item\n",
        "each_row_count = 0\n",
        "\n",
        "with open (filename, 'r')as file:\n",
        "  for line in file:\n",
        "      each_row_count += 1\n",
        "      try:\n",
        "          price = float((line).strip())\n",
        "          count_price += price\n",
        "          count_items += 1\n",
        "      except ValueError:\n",
        "        pass\n",
        "\n",
        "print(f\"Total sum of all items: {count_price}\")\n",
        "print(f\"Total number of purchased items: {count_items}\")\n",
        "print(f\"Total number of items could also be: {each_row_count}\")\n",
        "\n"
      ]
    }
  ]
}